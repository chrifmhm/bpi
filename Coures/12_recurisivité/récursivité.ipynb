{
 "cells": [
  {
   "attachments": {},
   "cell_type": "markdown",
   "metadata": {
    "tags": []
   },
   "source": [
    "# Récursivité"
   ]
  },
  {
   "attachments": {},
   "cell_type": "markdown",
   "metadata": {},
   "source": [
    "Pour cette feuille de TP, **tous** les algorithmes devront être récursifs, sauf mention explicite du contraire."
   ]
  },
  {
   "attachments": {},
   "cell_type": "markdown",
   "metadata": {
    "tags": []
   },
   "source": [
    "## Algorithes récursifs sur des chaînes de caractères"
   ]
  },
  {
   "attachments": {},
   "cell_type": "markdown",
   "metadata": {},
   "source": [
    "Avec des chaînes de caractères, la variable régissant la récursivité sera presque tout le temps implicite plutôt qu'explicite: on raisonnera en général sur la *longueur* de la chaîne de caractères, en la décrémentant à chaque étape.\n",
    "\n",
    "Les conditions d'arrêt se feront presque tout le temps sur les chaînes de longueurs nulles ou bien de longueurs 1."
   ]
  },
  {
   "attachments": {},
   "cell_type": "markdown",
   "metadata": {},
   "source": [
    "### Longueur d'une chaîne de caractères"
   ]
  },
  {
   "attachments": {},
   "cell_type": "markdown",
   "metadata": {},
   "source": [
    "**Spécification:** Écrire une fonction ```longueur(chaîne)``` prenant pour paramètre une chaîne de caractère, et retournant la longueur de cette chaîne. Il n'est évidemment pas autorisé d'utilisé la fonction standard ```len(chaîne)```. On pourra tester si une chaîne est vide à l'aide de la syntaxe ```chaîne == \"\"```."
   ]
  },
  {
   "attachments": {},
   "cell_type": "markdown",
   "metadata": {},
   "source": [
    "**Votre solution:**"
   ]
  },
  {
   "cell_type": "code",
   "execution_count": null,
   "metadata": {},
   "outputs": [],
   "source": [
    "def longueur(chaîne):\n",
    "    \"\"\"\n",
    "    Écrire la documentation ici\n",
    "    \"\"\"\n",
    "    \n",
    "    pass # Remplacer cette ligne par votre code"
   ]
  },
  {
   "attachments": {},
   "cell_type": "markdown",
   "metadata": {},
   "source": [
    "### Détection d'un palindrome"
   ]
  },
  {
   "attachments": {},
   "cell_type": "markdown",
   "metadata": {},
   "source": [
    "Un palindrome est un mot (de la langue française ou pas) qui peut se lire indifféremment de gauche à droite ou de droite à gauche en gardant la même signification.\n",
    "\n",
    "Alternativement, un palindrome est un mot qui est identique à son retournement.\n",
    "\n",
    "Par exemple, LAVAL est un palindrome. Tout comme OXYZYXO (même s'il n'a aucun sens en français et n'existe probablement dans aucune langue humaine).\n",
    "\n",
    "Par convention, un mot vide sera considéré comme un palindrome. Un mot de une lettre **est** un palindrome d'après la définition précédente."
   ]
  },
  {
   "attachments": {},
   "cell_type": "markdown",
   "metadata": {},
   "source": [
    "**Spécification:** Écrire une fonction ```palindrome(mot)``` renvoyant ```True``` si ```mot``` est un palindrome, ```False``` sinon. On s'interdira d'utiliser la fonction ```retourne(chaîne)``` utilisée en cours, ou tout autre moyen permettant de retourner une chaîne de caractère pour la comparer à l'originale: votre algorithme doit être spécifiquement écrit pour tester la \"palindromitude\" du mot."
   ]
  },
  {
   "attachments": {},
   "cell_type": "markdown",
   "metadata": {},
   "source": [
    "**Votre solution:**"
   ]
  },
  {
   "cell_type": "code",
   "execution_count": null,
   "metadata": {},
   "outputs": [],
   "source": [
    "def palindrome(mot):\n",
    "    \"\"\"\n",
    "    Écrire la documentation ici\n",
    "    \"\"\"\n",
    "    \n",
    "    pass # Remplacer cette ligne par votre code"
   ]
  },
  {
   "attachments": {},
   "cell_type": "markdown",
   "metadata": {},
   "source": [
    "## Algorithmes récursifs sur des entiers"
   ]
  },
  {
   "attachments": {},
   "cell_type": "markdown",
   "metadata": {},
   "source": [
    "### Calcul d'une factorielle"
   ]
  },
  {
   "attachments": {},
   "cell_type": "markdown",
   "metadata": {},
   "source": [
    "En mathématiques, la factorielle d'un entier naturel $n$ se note $n!$ et se calcule par la formule $$n! = n\\times(n-1)\\times\\cdots\\times 3\\times 2\\times 1$$\n",
    "\n",
    "On adoptera la convention mathématique que $0! = 1$."
   ]
  },
  {
   "attachments": {},
   "cell_type": "markdown",
   "metadata": {},
   "source": [
    "**Spécification:** Écrire une fonction ```fact(n)``` prenant pour paramètre un entier naturel $n$ et renvoyant sa factorielle $n!$."
   ]
  },
  {
   "attachments": {},
   "cell_type": "markdown",
   "metadata": {},
   "source": [
    "**Votre solution:**"
   ]
  },
  {
   "cell_type": "code",
   "execution_count": null,
   "metadata": {},
   "outputs": [],
   "source": [
    "def fact(n):\n",
    "    \"\"\"\n",
    "    Écrire la documentation ici\n",
    "    \"\"\"\n",
    "    \n",
    "    pass # Remplacer cette ligne par votre code"
   ]
  },
  {
   "attachments": {},
   "cell_type": "markdown",
   "metadata": {},
   "source": [
    "### Multiplication de deux entiers"
   ]
  },
  {
   "attachments": {},
   "cell_type": "markdown",
   "metadata": {},
   "source": [
    "**Spéficification:** Écrire une fonction ```mult(a, b)``` renvoyant le produit $a\\times b$, où l'on suppose que $a$ et $b$ sont deux entiers naturels. On s'interdira bien évidemment d'utiliser l'opérateur de multiplication `*`: seules les additions (et les soustractions) sont autorisées."
   ]
  },
  {
   "attachments": {},
   "cell_type": "markdown",
   "metadata": {},
   "source": [
    "**Votre solution:**"
   ]
  },
  {
   "cell_type": "code",
   "execution_count": null,
   "metadata": {},
   "outputs": [],
   "source": [
    "def mult(a, b):\n",
    "    \"\"\"\n",
    "    Écrire la documentation ici\n",
    "    \"\"\"\n",
    "    \n",
    "    pass # Remplacer cette ligne par votre code"
   ]
  },
  {
   "attachments": {},
   "cell_type": "markdown",
   "metadata": {},
   "source": [
    "### Multiplication optimisée de deux entiers "
   ]
  },
  {
   "attachments": {},
   "cell_type": "markdown",
   "metadata": {},
   "source": [
    "Il est très probable que votre solution à l'exercice précédet utilise l'identité $$a\\times b = b + (a-1)\\times b$$ ou bien sa soeur jumelle $$a\\times b = a + a\\times(b-1)$$\n",
    "\n",
    "Cela implique que le nombre d'étapes nécessaires pour calculer le produit sera égal à $a$ (ou bien à $b$), selon le choix effectué.\n",
    "\n",
    "On peut en réalité faire bien mieux que cela, en se servant de la parité de la variable sur laquelle on procède aux appels récursifs. Supposont que l'on choisisse la première formule ci-dessus: $a$ sera la variable sur laquelle on effectuera les appels récursifs. Deux cas peuvent se présenter:\n",
    "\n",
    "* Si $a$ est pair, alors on a $a = 2a'$, et dans ce cas, on aura $$a\\times b = 2\\times (a'\\times b)$$\n",
    "L'interdiction d'utiliser une multiplication est ici facile à contourner: on peut facilement doubler la valeur d'une variable en l'additionnant à elle-même.\n",
    "* Sinon, $a$ est impair et on utilise la formule précédente:\n",
    "$$a\\times b = (a-1)\\times b$$\n",
    "\n",
    "Dans les deux cas, on a bien une diminution stricte de la valeur de $a$, mais dans le premier cas elle est bien meilleure que pour le cas normal. Le gain de temps peut être absolument impressionnant."
   ]
  },
  {
   "attachments": {},
   "cell_type": "markdown",
   "metadata": {},
   "source": [
    "**Spécification:** Écrivez la fonction ```multopt(a, b)``` utilisant cet algorithme de multiplication optimisé.\n",
    "\n",
    "**Bonus:** Modifiez votre fonction pour qu'elle renvoie deux valeurs: le produit demandé, et le nombre d'appels récursifs effectués pour le calculer.\n",
    "\n",
    "Afficher le nombre d'appels nécessaires pour $a$ variant de 1 à 1000 (la valeur de $b$ n'intervient jamais dans ce calcul et n'a de ce fait aucune importance)."
   ]
  },
  {
   "attachments": {},
   "cell_type": "markdown",
   "metadata": {},
   "source": [
    "**Votre solution:**"
   ]
  },
  {
   "cell_type": "code",
   "execution_count": null,
   "metadata": {},
   "outputs": [],
   "source": [
    "def multopt(a, b):\n",
    "    \"\"\"\n",
    "    Écrire la documentation ici\n",
    "    \"\"\"\n",
    "    \n",
    "    pass # Remplacer cette ligne par votre code"
   ]
  },
  {
   "attachments": {},
   "cell_type": "markdown",
   "metadata": {},
   "source": [
    "### Optimisation du calcul récursif d'une puissance"
   ]
  },
  {
   "attachments": {},
   "cell_type": "markdown",
   "metadata": {},
   "source": [
    "Le calcul d'une puissance peut s'effectuer avec une optimisation très similaire à la précédente:\n",
    "\n",
    "* si $n$ est pair, alors $n = 2m$ et $$a^m = a^{2m} = \\left(a^2\\right)^m$$ Là encore, il est très facile de calculer un carré en multipliant une variable par elle-même.\n",
    "* Sinon, $n$ est impair et on se contente de $$a^n = a\\times a^{n-1}$$ comme pour la récursivité vue en début de chapitre."
   ]
  },
  {
   "attachments": {},
   "cell_type": "markdown",
   "metadata": {},
   "source": [
    "**Spécification:** Procéder comme pour l'exercice précédent et écrire la fonction ```puissance_opt(a, n)```. "
   ]
  },
  {
   "attachments": {},
   "cell_type": "markdown",
   "metadata": {},
   "source": [
    "**Votre solution:**"
   ]
  },
  {
   "cell_type": "code",
   "execution_count": null,
   "metadata": {},
   "outputs": [],
   "source": [
    "def puissance_opt(a, n):\n",
    "    \"\"\"\n",
    "    Écrire la documentation ici\n",
    "    \"\"\"\n",
    "    \n",
    "    pass # Remplacer cette ligne par votre code"
   ]
  },
  {
   "attachments": {},
   "cell_type": "markdown",
   "metadata": {},
   "source": [
    "### Suite de Syracuse"
   ]
  },
  {
   "attachments": {},
   "cell_type": "markdown",
   "metadata": {},
   "source": [
    "**Spécification:** Écrire une fonction ```syracuse(n)``` basée sur la [suite de Syracuse](https://fr.wikipedia.org/wiki/Conjecture_de_Syracuse). Sa valeur de retour sera:\n",
    "\n",
    "* 1 si `n==1`.\n",
    "* `syracuse(n / 2)` si `n` est pair\n",
    "* `syracuse(3*n + 1)` sinon.\n",
    "\n",
    "La conjecture de Syracuse nous permet d'affirmer que (sous réserve qu'elle soit correcte, ce que personne n'a jamais réussi à démontrer) la fonction de syracuse ne bouclera jamais indéfiniment et renverra toujours la valeur 1.\n",
    "\n",
    "**Bonus:** En plus de la valeur de retour (qui sera toujours 1), renvoyez le nombre d'appels récursifs nécessaires pour atteindre cette valeur finale."
   ]
  },
  {
   "attachments": {},
   "cell_type": "markdown",
   "metadata": {},
   "source": [
    "**Votre solution:**"
   ]
  },
  {
   "cell_type": "code",
   "execution_count": null,
   "metadata": {},
   "outputs": [],
   "source": [
    "def syracuse(n):\n",
    "    \"\"\"\n",
    "    Écrire la documentation ici\n",
    "    \"\"\"\n",
    "    \n",
    "    pass # Remplacer cette ligne par votre code"
   ]
  },
  {
   "attachments": {},
   "cell_type": "markdown",
   "metadata": {},
   "source": [
    "### Suite de Fibonacci"
   ]
  },
  {
   "attachments": {},
   "cell_type": "markdown",
   "metadata": {},
   "source": [
    "La célèbre suite de Fibonacci $(f_n)$ est définie par la relation de récurrence double $f_n = f_{n-1} + f_{n-2},$ avec les deux conditions initiales $f_0 = f_1 = 1$."
   ]
  },
  {
   "attachments": {},
   "cell_type": "markdown",
   "metadata": {},
   "source": [
    "**Spécification:** Écrire la fonction ```fibo(n)``` calculant $f_n$."
   ]
  },
  {
   "attachments": {},
   "cell_type": "markdown",
   "metadata": {},
   "source": [
    "**Votre solution:**"
   ]
  },
  {
   "cell_type": "code",
   "execution_count": null,
   "metadata": {},
   "outputs": [],
   "source": [
    "def fibo(n):\n",
    "    \"\"\"\n",
    "    Écrire la documentation ici\n",
    "    \"\"\"\n",
    "    \n",
    "    pass # Remplacer cette ligne par votre code"
   ]
  },
  {
   "attachments": {},
   "cell_type": "markdown",
   "metadata": {},
   "source": [
    "## Permutations d'une liste"
   ]
  },
  {
   "attachments": {},
   "cell_type": "markdown",
   "metadata": {},
   "source": [
    "**Spécification:** Écrire une fonction ```permutations(L)``` retournant la liste de **toutes** les permutations de la liste ```L```."
   ]
  },
  {
   "attachments": {},
   "cell_type": "markdown",
   "metadata": {},
   "source": [
    "**Aide:** Il pourra être utile de commencer par écrire une fonction auxilliaire `insertion(élément, L)` qui insère l'`élément` à toutes les positions possibles de la liste `L` (première et dernière comprise), et renvoie la liste de tous les résultats possibles."
   ]
  },
  {
   "attachments": {},
   "cell_type": "markdown",
   "metadata": {},
   "source": [
    "**Votre solution:**"
   ]
  },
  {
   "cell_type": "code",
   "execution_count": null,
   "metadata": {},
   "outputs": [],
   "source": [
    "def insertion(élément, L):\n",
    "    \"\"\"\n",
    "    Écrire la documentation ici\n",
    "    \"\"\"\n",
    "    \n",
    "    pass # Remplacer cette ligne par votre code"
   ]
  },
  {
   "cell_type": "code",
   "execution_count": null,
   "metadata": {},
   "outputs": [],
   "source": [
    "def permutations(L):\n",
    "    \"\"\"\n",
    "    Écrire la documentation ici\n",
    "    \"\"\"\n",
    "    \n",
    "    pass # Remplacer cette ligne par votre code"
   ]
  },
  {
   "attachments": {},
   "cell_type": "markdown",
   "metadata": {},
   "source": [
    "## Flocon de neige de Von Koch"
   ]
  },
  {
   "attachments": {},
   "cell_type": "markdown",
   "metadata": {},
   "source": [
    "Le [flocon de neige de Von Koch](https://fr.wikipedia.org/wiki/Flocon_de_Koch) est une courbe fractale dont le principe de construction est illustré dans la [vidéo suivante (youtube)](https://www.youtube.com/watch?v=oK7eGO-0esI)."
   ]
  },
  {
   "attachments": {},
   "cell_type": "markdown",
   "metadata": {},
   "source": [
    "**Spécification:** À l'aide du module ```turtle``` de python, tracez (récursivement) un flocon de neige de Von Koch à un degré passé en paramètre. La fonction s'appellera ```koch(longueur, d)```, où $d$ est le degré est longueur correspond au grand côté du flocon (qui est est globalement un triangle équilatéral). Pour $d = 0$, on aura le triangle équilatéral de base, de côté 'longueur'.\n",
    "\n",
    "Attention, le nombre de segments à tracer est égal à $3\\times 4^d$, puisqu'à chaque étape le nombre de segments est multiplié par 4. Ne pas choisir de valeur trop grande de $d$ sous peine de devoir attendre très longtemps la fin du tracer."
   ]
  },
  {
   "attachments": {},
   "cell_type": "markdown",
   "metadata": {},
   "source": [
    "Vous trouverez une documentation pour le module ```turtle``` par exemple [ici](http://fe.fil.univ-lille1.fr/apl/2018/turtle.html) pour un premier tutoriel, ou bien la [documentation officielle](https://docs.python.org/fr/3.8/library/turtle.html) pour plus de détails."
   ]
  },
  {
   "attachments": {},
   "cell_type": "markdown",
   "metadata": {},
   "source": [
    "**Votre solution:**"
   ]
  },
  {
   "cell_type": "code",
   "execution_count": null,
   "metadata": {},
   "outputs": [],
   "source": [
    "import turtle as tt\n",
    "\n",
    "def koch(longueur, d):\n",
    "    \"\"\"\n",
    "    Écrire la documentation ici\n",
    "    \"\"\"\n",
    "    \n",
    "    pass # Remplacer cette ligne par votre code"
   ]
  },
  {
   "attachments": {},
   "cell_type": "markdown",
   "metadata": {},
   "source": [
    "Vous pouvez vous inspirer de la [vidéo suivante (youtube)](https://www.youtube.com/watch?v=RU0wScIj36o) pour trouver d'autres idées de courbe à tracer récursivement."
   ]
  },
  {
   "attachments": {},
   "cell_type": "markdown",
   "metadata": {},
   "source": [
    "## Les tours de Hanoi"
   ]
  },
  {
   "attachments": {},
   "cell_type": "markdown",
   "metadata": {},
   "source": [
    "Il s'agit d'un problème célèbre. Vous en trouverez une explication (trop) détaillée sur [wikipedia](https://fr.wikipedia.org/wiki/Tours_de_Hano%C3%AF) ou bien sur le début de [cette video (youtube)](https://www.youtube.com/watch?v=w_9P7icYh7Y&t=219s)."
   ]
  },
  {
   "attachments": {},
   "cell_type": "markdown",
   "metadata": {},
   "source": [
    "Pour vous aider à visualiser votre algorithme, je vous propose de vous servir d'une librairie externe dont voici un exemple d'utilisation:"
   ]
  },
  {
   "cell_type": "code",
   "execution_count": 1,
   "metadata": {},
   "outputs": [],
   "source": [
    "from animator import HanoiAnimator"
   ]
  },
  {
   "cell_type": "code",
   "execution_count": 2,
   "metadata": {},
   "outputs": [],
   "source": [
    "ha = HanoiAnimator(N=5)"
   ]
  },
  {
   "cell_type": "code",
   "execution_count": 3,
   "metadata": {},
   "outputs": [],
   "source": [
    "ha.placement_initial()"
   ]
  },
  {
   "cell_type": "code",
   "execution_count": 4,
   "metadata": {},
   "outputs": [],
   "source": [
    "ha.mouvement(1, 2)"
   ]
  },
  {
   "cell_type": "code",
   "execution_count": 5,
   "metadata": {},
   "outputs": [],
   "source": [
    "ha.mouvement(1, 3)"
   ]
  },
  {
   "cell_type": "code",
   "execution_count": 7,
   "metadata": {},
   "outputs": [],
   "source": [
    "ha.mouvement(2, 3)"
   ]
  },
  {
   "cell_type": "code",
   "execution_count": 9,
   "metadata": {},
   "outputs": [],
   "source": [
    "ha.mouvement(1, 2)"
   ]
  },
  {
   "attachments": {},
   "cell_type": "markdown",
   "metadata": {},
   "source": [
    "La fonction `placement_initial()` place les `N` disques sur le plot 1. La commande `mouvement(plot_a, plot_b)` déplace le premier disque depuis `plot_a` vers `plot_b` (il doit s'agir d'entiers compris entre 1 et 3), *à condition que le déplacement soit valide*. Dans le cas contraire, il ne se passe rien."
   ]
  },
  {
   "attachments": {},
   "cell_type": "markdown",
   "metadata": {},
   "source": [
    "L'objectif est d'amener tous les disques du premier plot au troisième plot, sans jamais placer un disque sur un disque plus petit que lui."
   ]
  },
  {
   "attachments": {},
   "cell_type": "markdown",
   "metadata": {},
   "source": [
    "Vous pouvez clôre la fenêtre graphique grâce à la commande suivante:"
   ]
  },
  {
   "cell_type": "code",
   "execution_count": 10,
   "metadata": {},
   "outputs": [],
   "source": [
    "ha.destruction()"
   ]
  },
  {
   "attachments": {},
   "cell_type": "markdown",
   "metadata": {},
   "source": [
    "**Votre solution:**"
   ]
  },
  {
   "attachments": {},
   "cell_type": "markdown",
   "metadata": {},
   "source": [
    "Il est utile d'écrire une fonction récursive `déplace_pile(animator, N, a, b, c)` qui prend pour paramètre un `HanoiAnimator` (comme la variable `ha` de l'exemple ci-dessus), un entier positif `N`, ainsi que 3 plots `a`, `b`, `c` qui contiennent trois entiers **distincts** compris entre 1 et 3 (autrement dit, il s'agit d'une permutation de 1, 2, 3). La fonction va déplacer (récursivement) `N` disques depuis le plot `a` vers le plot `b`, en se servant du plot `c` comme point de passage (notez qu'il est possible de calculer automatiquement `c` en connaissant `a` et `b`, ce paramètre n'est donc pas indispensable, mais il facilite la vie).\n",
    "\n",
    "Pour vous aider:\n",
    "* La vidéo précédente explique quasiment le procédé récursif que vous devez mettre en place.\n",
    "* Quelle est la variable qui servira pour la récursivité ? Comment évolue-t-elle ?\n",
    "* Posez-vous la question de la condition d'arrêt: c'est là qu'interviendra la variable `animator`, car vous devrez déplacer un disque grâce à la fonction `animator.mouvement(a, b)`."
   ]
  },
  {
   "cell_type": "code",
   "execution_count": null,
   "metadata": {},
   "outputs": [],
   "source": [
    "def déplace_pile(animator, N, a, b, c):\n",
    "    \"\"\"\n",
    "    Écrire la documentation de votre fonction ici\n",
    "    \"\"\"\n",
    "    \n",
    "    pass # Remplacer cette ligne par votre code."
   ]
  },
  {
   "attachments": {},
   "cell_type": "markdown",
   "metadata": {},
   "source": [
    "La fonction suivante est chargée de créer la fenêtre graphique avec le bon nombre de disques, placer ces disques, puis appeler la fonction `déplace_pile(...)` avec les bons paramètres pour déplacer les `N` disques du plot 1 vers le plot 3. La fonction `hanoi` n'est pas elle-même récursive."
   ]
  },
  {
   "cell_type": "code",
   "execution_count": null,
   "metadata": {},
   "outputs": [],
   "source": [
    "def hanoi(N):\n",
    "    \"\"\"\n",
    "    Écrire la documentation ici\n",
    "    \"\"\"\n",
    "    \n",
    "    pass # remplacer cette ligne par votre code"
   ]
  }
 ],
 "metadata": {
  "kernelspec": {
   "display_name": "Python 3 (ipykernel)",
   "language": "python",
   "name": "python3"
  },
  "language_info": {
   "codemirror_mode": {
    "name": "ipython",
    "version": 3
   },
   "file_extension": ".py",
   "mimetype": "text/x-python",
   "name": "python",
   "nbconvert_exporter": "python",
   "pygments_lexer": "ipython3",
   "version": "3.9.6"
  }
 },
 "nbformat": 4,
 "nbformat_minor": 4
}
